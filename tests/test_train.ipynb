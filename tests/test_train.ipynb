{
 "cells": [
  {
   "cell_type": "code",
   "execution_count": null,
   "metadata": {},
   "outputs": [],
   "source": [
    "# -*- coding:utf-8 -*-\n",
    "import sys\n",
    "sys.path.append(\"..\")\n",
    "import numpy as np\n",
    "import tensorflow as tf\n",
    "from tensorflow import logging\n",
    "\n",
    "import models\n",
    "import inputs\n",
    "import losses\n",
    "from online_data import get_triplets\n",
    "from parse_data import lookup\n",
    "from utils import find_class_by_name\n",
    "from train import build_pipe_graph\n",
    "from train import build_graph\n",
    "from train import Trainer\n",
    "\n",
    "\n",
    "logging.set_verbosity(logging.DEBUG)"
   ]
  },
  {
   "cell_type": "code",
   "execution_count": null,
   "metadata": {},
   "outputs": [],
   "source": [
    "# TODO Prepare distributed arguments here. \n",
    "logging.info(\"Tensorflow version: %s.\",tf.__version__)\n",
    "train_dir = \"/home/wengjy1/cdml/tests/train_dir\"  # NOTE 路径是 home\n",
    "checkpoints_dir = train_dir+\"/checkpoints/\"\n",
    "pipe = inputs.MPTripletPipe(triplet_file_patten = train_dir + \"/*.triplet\",\n",
    "                            feature_file = train_dir + \"/features.npy\",\n",
    "                            debug=False)"
   ]
  },
  {
   "cell_type": "code",
   "execution_count": null,
   "metadata": {},
   "outputs": [],
   "source": [
    "model = find_class_by_name(\"VENet\", [models])()\n",
    "loss_fn = find_class_by_name(\"HingeLoss\", [losses])()\n",
    "optimizer_class = find_class_by_name(\"AdamOptimizer\", [tf.train])\n",
    "config = tf.ConfigProto(allow_soft_placement=True,log_device_placement=True)\n",
    "config.gpu_options.allow_growth=True"
   ]
  },
  {
   "cell_type": "code",
   "execution_count": null,
   "metadata": {},
   "outputs": [],
   "source": [
    "trainer = Trainer(pipe=pipe,\n",
    "                num_epochs=5,\n",
    "                batch_size=10,\n",
    "                wait_times=10,\n",
    "                model=model,\n",
    "                loss_fn=loss_fn,\n",
    "                checkpoints_dir=checkpoints_dir,\n",
    "                optimizer_class=optimizer_class,\n",
    "                config=config,\n",
    "                last_step=None,\n",
    "                debug=False)"
   ]
  },
  {
   "cell_type": "code",
   "execution_count": null,
   "metadata": {},
   "outputs": [],
   "source": [
    "trainer.run()"
   ]
  },
  {
   "cell_type": "code",
   "execution_count": null,
   "metadata": {},
   "outputs": [],
   "source": []
  }
 ],
 "metadata": {
  "kernelspec": {
   "display_name": "Python 3",
   "language": "python",
   "name": "python3"
  },
  "language_info": {
   "codemirror_mode": {
    "name": "ipython",
    "version": 3
   },
   "file_extension": ".py",
   "mimetype": "text/x-python",
   "name": "python",
   "nbconvert_exporter": "python",
   "pygments_lexer": "ipython3",
   "version": "3.6.7"
  }
 },
 "nbformat": 4,
 "nbformat_minor": 2
}
