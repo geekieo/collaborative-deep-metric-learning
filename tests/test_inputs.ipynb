{
 "cells": [
  {
   "cell_type": "code",
   "execution_count": null,
   "metadata": {},
   "outputs": [],
   "source": [
    "# -*- coding:utf-8 -*-\n",
    "import sys\n",
    "sys.path.append(\"..\")\n",
    "import tensorflow as tf\n",
    "import numpy as np\n",
    "from inputs import MPTripletPipe"
   ]
  },
  {
   "cell_type": "code",
   "execution_count": null,
   "metadata": {},
   "outputs": [],
   "source": [
    "pipe = MPTripletPipe(triplet_file_patten='*.triplet',\n",
    "                       feature_file=\"features.npy\",\n",
    "                       debug=True)"
   ]
  },
  {
   "cell_type": "code",
   "execution_count": null,
   "metadata": {},
   "outputs": [],
   "source": [
    "pipe.create_pipe(num_epochs=2, batch_size=20)"
   ]
  },
  {
   "cell_type": "code",
   "execution_count": null,
   "metadata": {},
   "outputs": [],
   "source": [
    "# 单例\n",
    "triplet = pipe.get_batch(wait_times=10)\n",
    "print(triplet.shape)\n",
    "print(triplet)\n",
    "# 循环\n",
    "while True:\n",
    "  triplet = pipe.get_batch(wait_times=5)\n",
    "  if triplet is None:\n",
    "    # summary save model\n",
    "    print('Loop end!')\n",
    "    break\n",
    "  print(triplet.shape)\n",
    "  if not triplet.shape[1:] == (3,1500):\n",
    "    print(triplet.shape)\n",
    "    print(triplet.dtype)"
   ]
  },
  {
   "cell_type": "code",
   "execution_count": null,
   "metadata": {},
   "outputs": [],
   "source": []
  }
 ],
 "metadata": {
  "kernelspec": {
   "display_name": "Python 3",
   "language": "python",
   "name": "python3"
  },
  "language_info": {
   "codemirror_mode": {
    "name": "ipython",
    "version": 3
   },
   "file_extension": ".py",
   "mimetype": "text/x-python",
   "name": "python",
   "nbconvert_exporter": "python",
   "pygments_lexer": "ipython3",
   "version": "3.6.7"
  }
 },
 "nbformat": 4,
 "nbformat_minor": 2
}
