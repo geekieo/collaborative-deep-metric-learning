{
 "cells": [
  {
   "cell_type": "code",
   "execution_count": 1,
   "metadata": {},
   "outputs": [],
   "source": [
    "# -*- coding:utf-8 -*-\n",
    "import sys\n",
    "sys.path.append(\"..\")\n",
    "import tensorflow as tf\n",
    "import numpy as np\n",
    "from inputs import MPTripletPipe"
   ]
  },
  {
   "cell_type": "code",
   "execution_count": 2,
   "metadata": {},
   "outputs": [],
   "source": [
    "def test_MPTripletPipe():\n",
    "  pipe = MPTripletPipe(triplet_file_patten='*.triplet',\n",
    "                       feature_file=\"features.txt\",\n",
    "                       debug=True)\n",
    "  pipe.create_pipe(num_epochs=2)\n",
    "  # 单例\n",
    "  triplet = pipe.get_batch(batch_size=50, wait_times=10)\n",
    "  print(triplet.shape)\n",
    "  print(triplet[0])\n",
    "  # 循环\n",
    "  while True:\n",
    "    triplet = pipe.get_batch(batch_size=50,wait_times=5)\n",
    "    if triplet is None:\n",
    "        # summary save model\n",
    "        print('Loop end!')\n",
    "        break\n",
    "#     print(triplet.shape[1:])\n",
    "    if not triplet.shape[1:] == (3,1500):\n",
    "        print(input_triplets_val.shape)\n",
    "    print(triplet.dtype)"
   ]
  },
  {
   "cell_type": "code",
   "execution_count": 3,
   "metadata": {},
   "outputs": [
    {
     "name": "stdout",
     "output_type": "stream",
     "text": [
      "INFO:tensorflow:['./xaa.triplet', './xab.triplet', './xac.triplet']\n",
      "DEBUG:tensorflow:__init__ features id: 140298497833216\n",
      "INFO:tensorflow:queue is empty, wait:1\n",
      "DEBUG:tensorflow:thread_index: 1; subprocess features id: 140298497833216\n",
      "DEBUG:tensorflow:thread_index: 2; subprocess features id: 140298497833216\n",
      "DEBUG:tensorflow:thread_index: 0; subprocess features id: 140298497833216\n",
      "DEBUG:tensorflow:thread_index: 2; runtimes: 0\n",
      "DEBUG:tensorflow:thread_index: 2; runtimes: 1\n",
      "INFO:tensorflow:thread_index: 2 subprocess end\n",
      "DEBUG:tensorflow:thread_index: 0; runtimes: 0\n",
      "DEBUG:tensorflow:thread_index: 1; runtimes: 0\n",
      "DEBUG:tensorflow:thread_index: 0; runtimes: 1\n",
      "DEBUG:tensorflow:thread_index: 1; runtimes: 1\n",
      "INFO:tensorflow:thread_index: 0 subprocess end\n",
      "INFO:tensorflow:thread_index: 1 subprocess end\n",
      "(50, 3, 1500)\n",
      "[[ 1.3736521   0.99469876  1.3140835  ... -0.61422306  0.6407618\n",
      "   0.08817997]\n",
      " [-0.6772826   0.08833743 -0.6185337  ... -0.12382004 -0.5780936\n",
      "  -1.0719566 ]\n",
      " [ 1.4919543  -0.23155005  0.3312577  ...  0.32950884 -0.04964208\n",
      "   0.3045533 ]]\n",
      "float32\n",
      "float32\n",
      "float32\n",
      "float32\n",
      "float32\n",
      "float32\n",
      "float32\n",
      "float32\n",
      "INFO:tensorflow:queue is empty, wait:1\n",
      "INFO:tensorflow:queue is empty, wait:2\n",
      "INFO:tensorflow:queue is empty, wait:3\n",
      "INFO:tensorflow:queue is empty, wait:4\n",
      "INFO:tensorflow:queue is empty, wait:5\n",
      "INFO:tensorflow:queue is empty, i do not wanna to wait any more!!!\n",
      "Loop end!\n"
     ]
    }
   ],
   "source": [
    "if __name__ == '__main__':\n",
    "  test_MPTripletPipe()"
   ]
  }
 ],
 "metadata": {
  "kernelspec": {
   "display_name": "Python 3",
   "language": "python",
   "name": "python3"
  },
  "language_info": {
   "codemirror_mode": {
    "name": "ipython",
    "version": 3
   },
   "file_extension": ".py",
   "mimetype": "text/x-python",
   "name": "python",
   "nbconvert_exporter": "python",
   "pygments_lexer": "ipython3",
   "version": "3.6.7"
  }
 },
 "nbformat": 4,
 "nbformat_minor": 2
}
