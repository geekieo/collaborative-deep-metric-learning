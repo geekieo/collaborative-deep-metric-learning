{
 "cells": [
  {
   "cell_type": "code",
   "execution_count": null,
   "metadata": {},
   "outputs": [],
   "source": [
    "# -*- coding:utf-8 -*-\n",
    "\"\"\" Generates an output npy file containing predictions of\n",
    "the model over a set of video features.\n",
    "\"\"\"\n",
    "import sys\n",
    "sys.path.append(\"..\")\n",
    "import os\n",
    "import tensorflow as tf\n",
    "from tensorflow import logging\n",
    "from online_data import read_features_npy\n",
    "from predict import Prediction\n",
    "\n",
    "logging.set_verbosity(tf.logging.INFO)"
   ]
  },
  {
   "cell_type": "code",
   "execution_count": null,
   "metadata": {},
   "outputs": [],
   "source": [
    "if __name__ == \"__main__\":\n",
    "  train_dir = \"/home/wengjy1/cdml/tests/train_dir/\"\n",
    "  ckpt_dir = os.path.join(train_dir,\"checkpoints/VENet_190412_152347/\")\n",
    "  print(type(ckpt_dir),ckpt_dir)\n",
    "\n",
    "  batch_size = 2000 \n",
    "\n",
    "  config = tf.ConfigProto(allow_soft_placement=True, log_device_placement=False)\n",
    "  config.gpu_options.allow_growth=True\n",
    "\n",
    "  predictor = Prediction(ckpt_dir, config, device_name=None)\n",
    "  predictor.run_features(train_dir, batch_size)"
   ]
  }
 ],
 "metadata": {
  "kernelspec": {
   "display_name": "Python 3",
   "language": "python",
   "name": "python3"
  },
  "language_info": {
   "codemirror_mode": {
    "name": "ipython",
    "version": 3
   },
   "file_extension": ".py",
   "mimetype": "text/x-python",
   "name": "python",
   "nbconvert_exporter": "python",
   "pygments_lexer": "ipython3",
   "version": "3.6.7"
  }
 },
 "nbformat": 4,
 "nbformat_minor": 2
}
